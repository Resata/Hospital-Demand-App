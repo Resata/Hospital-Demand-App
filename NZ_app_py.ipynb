{
  "nbformat": 4,
  "nbformat_minor": 0,
  "metadata": {
    "colab": {
      "name": "NZ_app.py",
      "provenance": []
    },
    "kernelspec": {
      "name": "python3",
      "display_name": "Python 3"
    },
    "language_info": {
      "name": "python"
    }
  },
  "cells": [
    {
      "cell_type": "markdown",
      "metadata": {
        "id": "7VILDsF4dd0U"
      },
      "source": [
        "###Import libraries"
      ]
    },
    {
      "cell_type": "code",
      "metadata": {
        "colab": {
          "base_uri": "https://localhost:8080/"
        },
        "id": "rnt_3TTrf9sr",
        "outputId": "a509c427-8899-443b-ea57-a5411af59cb5"
      },
      "source": [
        "!pip install streamlit\n",
        "!pip install pyngrok===4.1.1\n",
        "!pip install plotly\n",
        "!pip install icd10-cm\n",
        "from pyngrok import ngrok"
      ],
      "execution_count": 62,
      "outputs": [
        {
          "output_type": "stream",
          "name": "stdout",
          "text": [
            "Requirement already satisfied: streamlit in /usr/local/lib/python3.7/dist-packages (0.89.0)\n",
            "Requirement already satisfied: gitpython!=3.1.19 in /usr/local/lib/python3.7/dist-packages (from streamlit) (3.1.24)\n",
            "Requirement already satisfied: pydeck>=0.1.dev5 in /usr/local/lib/python3.7/dist-packages (from streamlit) (0.7.0)\n",
            "Requirement already satisfied: packaging in /usr/local/lib/python3.7/dist-packages (from streamlit) (21.0)\n",
            "Requirement already satisfied: base58 in /usr/local/lib/python3.7/dist-packages (from streamlit) (2.1.0)\n",
            "Requirement already satisfied: pandas>=0.21.0 in /usr/local/lib/python3.7/dist-packages (from streamlit) (1.1.5)\n",
            "Requirement already satisfied: pillow>=6.2.0 in /usr/local/lib/python3.7/dist-packages (from streamlit) (7.1.2)\n",
            "Requirement already satisfied: toml in /usr/local/lib/python3.7/dist-packages (from streamlit) (0.10.2)\n",
            "Requirement already satisfied: click<8.0,>=7.0 in /usr/local/lib/python3.7/dist-packages (from streamlit) (7.1.2)\n",
            "Requirement already satisfied: attrs in /usr/local/lib/python3.7/dist-packages (from streamlit) (21.2.0)\n",
            "Requirement already satisfied: pyarrow in /usr/local/lib/python3.7/dist-packages (from streamlit) (3.0.0)\n",
            "Requirement already satisfied: watchdog in /usr/local/lib/python3.7/dist-packages (from streamlit) (2.1.5)\n",
            "Requirement already satisfied: python-dateutil in /usr/local/lib/python3.7/dist-packages (from streamlit) (2.8.2)\n",
            "Requirement already satisfied: tornado>=5.0 in /usr/local/lib/python3.7/dist-packages (from streamlit) (5.1.1)\n",
            "Requirement already satisfied: validators in /usr/local/lib/python3.7/dist-packages (from streamlit) (0.18.2)\n",
            "Requirement already satisfied: cachetools>=4.0 in /usr/local/lib/python3.7/dist-packages (from streamlit) (4.2.2)\n",
            "Requirement already satisfied: altair>=3.2.0 in /usr/local/lib/python3.7/dist-packages (from streamlit) (4.1.0)\n",
            "Requirement already satisfied: astor in /usr/local/lib/python3.7/dist-packages (from streamlit) (0.8.1)\n",
            "Requirement already satisfied: requests in /usr/local/lib/python3.7/dist-packages (from streamlit) (2.23.0)\n",
            "Requirement already satisfied: numpy in /usr/local/lib/python3.7/dist-packages (from streamlit) (1.19.5)\n",
            "Requirement already satisfied: protobuf!=3.11,>=3.6.0 in /usr/local/lib/python3.7/dist-packages (from streamlit) (3.17.3)\n",
            "Requirement already satisfied: blinker in /usr/local/lib/python3.7/dist-packages (from streamlit) (1.4)\n",
            "Requirement already satisfied: tzlocal in /usr/local/lib/python3.7/dist-packages (from streamlit) (1.5.1)\n",
            "Requirement already satisfied: jsonschema in /usr/local/lib/python3.7/dist-packages (from altair>=3.2.0->streamlit) (2.6.0)\n",
            "Requirement already satisfied: jinja2 in /usr/local/lib/python3.7/dist-packages (from altair>=3.2.0->streamlit) (2.11.3)\n",
            "Requirement already satisfied: entrypoints in /usr/local/lib/python3.7/dist-packages (from altair>=3.2.0->streamlit) (0.3)\n",
            "Requirement already satisfied: toolz in /usr/local/lib/python3.7/dist-packages (from altair>=3.2.0->streamlit) (0.11.1)\n",
            "Requirement already satisfied: typing-extensions>=3.7.4.3 in /usr/local/lib/python3.7/dist-packages (from gitpython!=3.1.19->streamlit) (3.7.4.3)\n",
            "Requirement already satisfied: gitdb<5,>=4.0.1 in /usr/local/lib/python3.7/dist-packages (from gitpython!=3.1.19->streamlit) (4.0.7)\n",
            "Requirement already satisfied: smmap<5,>=3.0.1 in /usr/local/lib/python3.7/dist-packages (from gitdb<5,>=4.0.1->gitpython!=3.1.19->streamlit) (4.0.0)\n",
            "Requirement already satisfied: pytz>=2017.2 in /usr/local/lib/python3.7/dist-packages (from pandas>=0.21.0->streamlit) (2018.9)\n",
            "Requirement already satisfied: six>=1.9 in /usr/local/lib/python3.7/dist-packages (from protobuf!=3.11,>=3.6.0->streamlit) (1.15.0)\n",
            "Requirement already satisfied: ipykernel>=5.1.2 in /usr/local/lib/python3.7/dist-packages (from pydeck>=0.1.dev5->streamlit) (6.4.1)\n",
            "Requirement already satisfied: traitlets>=4.3.2 in /usr/local/lib/python3.7/dist-packages (from pydeck>=0.1.dev5->streamlit) (5.1.0)\n",
            "Requirement already satisfied: ipywidgets>=7.0.0 in /usr/local/lib/python3.7/dist-packages (from pydeck>=0.1.dev5->streamlit) (7.6.5)\n",
            "Requirement already satisfied: jupyter-client<8.0 in /usr/local/lib/python3.7/dist-packages (from ipykernel>=5.1.2->pydeck>=0.1.dev5->streamlit) (5.3.5)\n",
            "Requirement already satisfied: ipython<8.0,>=7.23.1 in /usr/local/lib/python3.7/dist-packages (from ipykernel>=5.1.2->pydeck>=0.1.dev5->streamlit) (7.28.0)\n",
            "Requirement already satisfied: argcomplete>=1.12.3 in /usr/local/lib/python3.7/dist-packages (from ipykernel>=5.1.2->pydeck>=0.1.dev5->streamlit) (1.12.3)\n",
            "Requirement already satisfied: matplotlib-inline<0.2.0,>=0.1.0 in /usr/local/lib/python3.7/dist-packages (from ipykernel>=5.1.2->pydeck>=0.1.dev5->streamlit) (0.1.3)\n",
            "Requirement already satisfied: ipython-genutils in /usr/local/lib/python3.7/dist-packages (from ipykernel>=5.1.2->pydeck>=0.1.dev5->streamlit) (0.2.0)\n",
            "Requirement already satisfied: debugpy<2.0,>=1.0.0 in /usr/local/lib/python3.7/dist-packages (from ipykernel>=5.1.2->pydeck>=0.1.dev5->streamlit) (1.0.0)\n",
            "Requirement already satisfied: importlib-metadata<5 in /usr/local/lib/python3.7/dist-packages (from ipykernel>=5.1.2->pydeck>=0.1.dev5->streamlit) (4.8.1)\n",
            "Requirement already satisfied: zipp>=0.5 in /usr/local/lib/python3.7/dist-packages (from importlib-metadata<5->ipykernel>=5.1.2->pydeck>=0.1.dev5->streamlit) (3.5.0)\n",
            "Requirement already satisfied: decorator in /usr/local/lib/python3.7/dist-packages (from ipython<8.0,>=7.23.1->ipykernel>=5.1.2->pydeck>=0.1.dev5->streamlit) (4.4.2)\n",
            "Requirement already satisfied: pexpect>4.3 in /usr/local/lib/python3.7/dist-packages (from ipython<8.0,>=7.23.1->ipykernel>=5.1.2->pydeck>=0.1.dev5->streamlit) (4.8.0)\n",
            "Requirement already satisfied: pickleshare in /usr/local/lib/python3.7/dist-packages (from ipython<8.0,>=7.23.1->ipykernel>=5.1.2->pydeck>=0.1.dev5->streamlit) (0.7.5)\n",
            "Requirement already satisfied: prompt-toolkit!=3.0.0,!=3.0.1,<3.1.0,>=2.0.0 in /usr/local/lib/python3.7/dist-packages (from ipython<8.0,>=7.23.1->ipykernel>=5.1.2->pydeck>=0.1.dev5->streamlit) (3.0.20)\n",
            "Requirement already satisfied: jedi>=0.16 in /usr/local/lib/python3.7/dist-packages (from ipython<8.0,>=7.23.1->ipykernel>=5.1.2->pydeck>=0.1.dev5->streamlit) (0.18.0)\n",
            "Requirement already satisfied: setuptools>=18.5 in /usr/local/lib/python3.7/dist-packages (from ipython<8.0,>=7.23.1->ipykernel>=5.1.2->pydeck>=0.1.dev5->streamlit) (57.4.0)\n",
            "Requirement already satisfied: pygments in /usr/local/lib/python3.7/dist-packages (from ipython<8.0,>=7.23.1->ipykernel>=5.1.2->pydeck>=0.1.dev5->streamlit) (2.6.1)\n",
            "Requirement already satisfied: backcall in /usr/local/lib/python3.7/dist-packages (from ipython<8.0,>=7.23.1->ipykernel>=5.1.2->pydeck>=0.1.dev5->streamlit) (0.2.0)\n",
            "Requirement already satisfied: jupyterlab-widgets>=1.0.0 in /usr/local/lib/python3.7/dist-packages (from ipywidgets>=7.0.0->pydeck>=0.1.dev5->streamlit) (1.0.2)\n",
            "Requirement already satisfied: widgetsnbextension~=3.5.0 in /usr/local/lib/python3.7/dist-packages (from ipywidgets>=7.0.0->pydeck>=0.1.dev5->streamlit) (3.5.1)\n",
            "Requirement already satisfied: nbformat>=4.2.0 in /usr/local/lib/python3.7/dist-packages (from ipywidgets>=7.0.0->pydeck>=0.1.dev5->streamlit) (5.1.3)\n",
            "Requirement already satisfied: parso<0.9.0,>=0.8.0 in /usr/local/lib/python3.7/dist-packages (from jedi>=0.16->ipython<8.0,>=7.23.1->ipykernel>=5.1.2->pydeck>=0.1.dev5->streamlit) (0.8.2)\n",
            "Requirement already satisfied: MarkupSafe>=0.23 in /usr/local/lib/python3.7/dist-packages (from jinja2->altair>=3.2.0->streamlit) (2.0.1)\n",
            "Requirement already satisfied: jupyter-core>=4.6.0 in /usr/local/lib/python3.7/dist-packages (from jupyter-client<8.0->ipykernel>=5.1.2->pydeck>=0.1.dev5->streamlit) (4.8.1)\n",
            "Requirement already satisfied: pyzmq>=13 in /usr/local/lib/python3.7/dist-packages (from jupyter-client<8.0->ipykernel>=5.1.2->pydeck>=0.1.dev5->streamlit) (22.3.0)\n",
            "Requirement already satisfied: ptyprocess>=0.5 in /usr/local/lib/python3.7/dist-packages (from pexpect>4.3->ipython<8.0,>=7.23.1->ipykernel>=5.1.2->pydeck>=0.1.dev5->streamlit) (0.7.0)\n",
            "Requirement already satisfied: wcwidth in /usr/local/lib/python3.7/dist-packages (from prompt-toolkit!=3.0.0,!=3.0.1,<3.1.0,>=2.0.0->ipython<8.0,>=7.23.1->ipykernel>=5.1.2->pydeck>=0.1.dev5->streamlit) (0.2.5)\n",
            "Requirement already satisfied: notebook>=4.4.1 in /usr/local/lib/python3.7/dist-packages (from widgetsnbextension~=3.5.0->ipywidgets>=7.0.0->pydeck>=0.1.dev5->streamlit) (5.3.1)\n",
            "Requirement already satisfied: nbconvert in /usr/local/lib/python3.7/dist-packages (from notebook>=4.4.1->widgetsnbextension~=3.5.0->ipywidgets>=7.0.0->pydeck>=0.1.dev5->streamlit) (5.6.1)\n",
            "Requirement already satisfied: Send2Trash in /usr/local/lib/python3.7/dist-packages (from notebook>=4.4.1->widgetsnbextension~=3.5.0->ipywidgets>=7.0.0->pydeck>=0.1.dev5->streamlit) (1.8.0)\n",
            "Requirement already satisfied: terminado>=0.8.1 in /usr/local/lib/python3.7/dist-packages (from notebook>=4.4.1->widgetsnbextension~=3.5.0->ipywidgets>=7.0.0->pydeck>=0.1.dev5->streamlit) (0.12.1)\n",
            "Requirement already satisfied: testpath in /usr/local/lib/python3.7/dist-packages (from nbconvert->notebook>=4.4.1->widgetsnbextension~=3.5.0->ipywidgets>=7.0.0->pydeck>=0.1.dev5->streamlit) (0.5.0)\n",
            "Requirement already satisfied: defusedxml in /usr/local/lib/python3.7/dist-packages (from nbconvert->notebook>=4.4.1->widgetsnbextension~=3.5.0->ipywidgets>=7.0.0->pydeck>=0.1.dev5->streamlit) (0.7.1)\n",
            "Requirement already satisfied: pandocfilters>=1.4.1 in /usr/local/lib/python3.7/dist-packages (from nbconvert->notebook>=4.4.1->widgetsnbextension~=3.5.0->ipywidgets>=7.0.0->pydeck>=0.1.dev5->streamlit) (1.5.0)\n",
            "Requirement already satisfied: mistune<2,>=0.8.1 in /usr/local/lib/python3.7/dist-packages (from nbconvert->notebook>=4.4.1->widgetsnbextension~=3.5.0->ipywidgets>=7.0.0->pydeck>=0.1.dev5->streamlit) (0.8.4)\n",
            "Requirement already satisfied: bleach in /usr/local/lib/python3.7/dist-packages (from nbconvert->notebook>=4.4.1->widgetsnbextension~=3.5.0->ipywidgets>=7.0.0->pydeck>=0.1.dev5->streamlit) (4.1.0)\n",
            "Requirement already satisfied: webencodings in /usr/local/lib/python3.7/dist-packages (from bleach->nbconvert->notebook>=4.4.1->widgetsnbextension~=3.5.0->ipywidgets>=7.0.0->pydeck>=0.1.dev5->streamlit) (0.5.1)\n",
            "Requirement already satisfied: pyparsing>=2.0.2 in /usr/local/lib/python3.7/dist-packages (from packaging->streamlit) (2.4.7)\n",
            "Requirement already satisfied: chardet<4,>=3.0.2 in /usr/local/lib/python3.7/dist-packages (from requests->streamlit) (3.0.4)\n",
            "Requirement already satisfied: idna<3,>=2.5 in /usr/local/lib/python3.7/dist-packages (from requests->streamlit) (2.10)\n",
            "Requirement already satisfied: urllib3!=1.25.0,!=1.25.1,<1.26,>=1.21.1 in /usr/local/lib/python3.7/dist-packages (from requests->streamlit) (1.24.3)\n",
            "Requirement already satisfied: certifi>=2017.4.17 in /usr/local/lib/python3.7/dist-packages (from requests->streamlit) (2021.5.30)\n",
            "Requirement already satisfied: pyngrok===4.1.1 in /usr/local/lib/python3.7/dist-packages (4.1.1)\n",
            "Requirement already satisfied: PyYAML in /usr/local/lib/python3.7/dist-packages (from pyngrok===4.1.1) (3.13)\n",
            "Requirement already satisfied: future in /usr/local/lib/python3.7/dist-packages (from pyngrok===4.1.1) (0.16.0)\n",
            "Requirement already satisfied: plotly in /usr/local/lib/python3.7/dist-packages (4.4.1)\n",
            "Requirement already satisfied: retrying>=1.3.3 in /usr/local/lib/python3.7/dist-packages (from plotly) (1.3.3)\n",
            "Requirement already satisfied: six in /usr/local/lib/python3.7/dist-packages (from plotly) (1.15.0)\n",
            "Requirement already satisfied: icd10-cm in /usr/local/lib/python3.7/dist-packages (0.0.4)\n"
          ]
        }
      ]
    },
    {
      "cell_type": "markdown",
      "metadata": {
        "id": "SJ17Fp4ndpuq"
      },
      "source": [
        "###Pickle model"
      ]
    },
    {
      "cell_type": "code",
      "metadata": {
        "colab": {
          "base_uri": "https://localhost:8080/"
        },
        "id": "KNA_iI9MdsiL",
        "outputId": "f59b3e84-ddb0-4caf-8c77-6a08acd88705"
      },
      "source": [
        "# Save Model Using Pickle\n",
        "import pandas as pd\n",
        "from sklearn import model_selection\n",
        "from sklearn.ensemble import RandomForestRegressor\n",
        "import pickle\n",
        "\n",
        "df = pd.read_csv('/content/alldischarges_new.csv',low_memory=False)\n",
        "df.dropna(inplace=True)\n",
        "X = df[['Years','District_code','dSex','Age','Chapter']]\n",
        "print(X)\n",
        "y = df[['meanStay']]\n",
        "# Split the data set in a training set (70%) and a test set (30%)\n",
        "X_train, X_test, y_train, y_test = model_selection.train_test_split(X, y, test_size=0.30)\n",
        "\n",
        "model = RandomForestRegressor()\n",
        "\n",
        "# Train the model\n",
        "model.fit(X_train, y_train)\n",
        "\n",
        "# Save the trained model to a file so we can use it to make predictions later\n",
        "pickle.dump(model, open('randforestreg.pkl','wb'))"
      ],
      "execution_count": 63,
      "outputs": [
        {
          "output_type": "stream",
          "name": "stdout",
          "text": [
            "         Years  District_code  dSex   Age  Chapter\n",
            "0       2014.0           11.0   0.0  15.0      1.0\n",
            "1       2014.0            1.0   0.0  15.0      1.0\n",
            "2       2014.0           16.0   1.0  20.0      1.0\n",
            "3       2014.0            1.0   0.0  25.0      1.0\n",
            "4       2014.0            3.0   0.0  25.0      1.0\n",
            "...        ...            ...   ...   ...      ...\n",
            "129338  2018.0            3.0   0.0  55.0     21.0\n",
            "129339  2018.0           12.0   0.0  55.0     21.0\n",
            "129340  2018.0            3.0   1.0  60.0     21.0\n",
            "129341  2018.0           10.0   0.0  60.0     21.0\n",
            "129342  2018.0           10.0   1.0  65.0     21.0\n",
            "\n",
            "[129343 rows x 5 columns]\n"
          ]
        },
        {
          "output_type": "stream",
          "name": "stderr",
          "text": [
            "/usr/local/lib/python3.7/dist-packages/ipykernel_launcher.py:18: DataConversionWarning: A column-vector y was passed when a 1d array was expected. Please change the shape of y to (n_samples,), for example using ravel().\n"
          ]
        }
      ]
    },
    {
      "cell_type": "markdown",
      "metadata": {
        "id": "JmvrHDQyiayS"
      },
      "source": [
        "###Web App"
      ]
    },
    {
      "cell_type": "code",
      "metadata": {
        "colab": {
          "base_uri": "https://localhost:8080/"
        },
        "id": "h87bNGtkgILW",
        "outputId": "82e06faf-ffed-4603-c087-930f1104ba3c"
      },
      "source": [
        "%%writefile NZ_app.py\n",
        "import streamlit as st\n",
        "import icd10\n",
        "import sklearn\n",
        "import pandas as pd\n",
        "import numpy as np\n",
        "import pickle\n",
        "from datetime import datetime, timedelta, date\n",
        "import datetime as dt\n",
        "from dateutil.relativedelta import relativedelta\n",
        "from sklearn.preprocessing import LabelEncoder\n",
        "  \n",
        "st.set_page_config(page_title=\"NZ Hospital Demand Forecast APP\",layout=\"centered\",initial_sidebar_state=\"expanded\")\n",
        "\n",
        "st.sidebar.header('User Input Parameters')\n",
        "   \n",
        "    # front end elements of the web page \n",
        "html_temp = \"\"\" \n",
        "    <div style =\"background-color:light green;padding:13px\"> \n",
        "    <h1 style =\"color:orange;text-align:center;\">NZ Hospital Demand Forecast APP</h1> \n",
        "    </div> \n",
        "    \"\"\"\n",
        "      \n",
        "# display the front end aspect\n",
        "st.markdown(html_temp, unsafe_allow_html = True) \n",
        "st.subheader('by Falalu Sani Barde, Manusree Banerjee, Sarah El Shatby, Toyin Ogunlade ')\n",
        "      \n",
        "# following lines create boxes in which user can enter data required to make prediction\n",
        "page=st.sidebar.slider(\"Age\",1,100)\n",
        "psex = st.sidebar.radio(\"Select Gender: \", ('Male', 'Female'))\n",
        "alpha_index = st.sidebar.selectbox('ICD Alphabetical Index', ('A', 'B', 'C', 'D', 'E', 'F', 'G', 'H', 'I', 'J', 'K', 'L', 'M', 'N', 'O', 'P', 'Q', 'R', 'S', 'T', 'U', 'V', 'W', 'X', 'Y', 'Z'))\n",
        "code_num = st.sidebar.slider('ICD Numerical Index',0,99)\n",
        "dhb = st.sidebar.selectbox(\"Select District: \", ('Auckland', 'Bay of Plenty', 'Canterbury', 'Capital and Coast', 'Counties Manukau', \"Hawke's Bay\", 'Hutt Valley', 'Lakes', 'Midcentral', 'Nelson Marlborough', 'Northland', 'South 3', 'South Canterbury', 'Southern', 'Tairawhiti', 'Taranaki', 'Waikato', 'Wairarapa', 'Waitemata', 'West Coast', 'Whanganui', 'Unknown'))\n",
        "cols1,_ = st.columns((1,4)) # To make it narrower\n",
        "format = 'MMM DD, YYYY'  # format output\n",
        "start_date = dt.date(year=2021,month=1,day=1)  #  I need some range in the past\n",
        "end_date = dt.date(year=2022,month=12,day=31)\n",
        "max_days = end_date-start_date\n",
        "date = st.sidebar.slider('Select admission date', min_value=start_date, value=end_date ,max_value=end_date, format=format)\n",
        "## Sanity check\n",
        "st.sidebar.table(pd.DataFrame([[start_date, date, end_date]],columns=['start','selected','end'],index=['date']))\n",
        "\n",
        "if psex=='Female':\n",
        "  sex=1\n",
        "else:\n",
        "  sex=0\n",
        "if code_num<10:\n",
        "  icdcode=alpha_index+'0'+str(code_num)\n",
        "else:\n",
        "  icdcode=alpha_index+str(code_num)\n",
        " \n",
        "dist_dict = {'Auckland':1, 'Bay of Plenty':2, 'Canterbury':3, 'Capital and Coast':4, 'Counties Manukau':5, \"Hawke's Bay\":6, 'Hutt Valley':7, 'Lakes':8, 'Midcentral':9, 'Nelson Marlborough':10, 'Northland':11, 'South Canterbury':12, 'Southern':13, 'Tairawhiti':14, 'Taranaki':15, 'Unkown':16, 'Waikato':17, 'Wairarapa':18, 'Waitemata':19, 'West Coast':20, 'Whanganui':21}\n",
        "# Accessing integer using roman key\n",
        "district = dist_dict[dhb]\n",
        "\n",
        "if st.button(\"PREDICT\"):\n",
        "  if icd10.exists(icdcode):\n",
        "    st.write(\"ICD code is\", icdcode)\n",
        "    code = icd10.find(icdcode)\n",
        "    if icdcode=='A00' or icdcode=='B00':\n",
        "      chap=1\n",
        "    elif icdcode=='C00' or icdcode=='D00':\n",
        "      chap=2\n",
        "    elif icdcode=='E00':\n",
        "      chap=4\n",
        "    elif icdcode=='F00':\n",
        "      chap=5\n",
        "    elif icdcode=='G00':\n",
        "      chap=6\n",
        "    elif icdcode=='H00':\n",
        "      chap=7\n",
        "    elif icdcode=='I00':\n",
        "      chap=9\n",
        "    elif icdcode=='J00':\n",
        "      chap=10\n",
        "    elif icdcode=='K00':\n",
        "      chap=11\n",
        "    elif icdcode=='L00':\n",
        "      chap=12\n",
        "    elif icdcode=='M00':\n",
        "      chap=13\n",
        "    elif icdcode=='N00':\n",
        "      chap=14\n",
        "    elif icdcode=='O00':\n",
        "      chap=15\n",
        "    elif icdcode=='P00':\n",
        "      chap=16\n",
        "    elif icdcode=='Q00':\n",
        "      chap=17\n",
        "    elif icdcode=='R00':\n",
        "      chap=18\n",
        "    elif icdcode=='S00' or icdcode=='T00':\n",
        "      chap=19\n",
        "    elif icdcode=='U00':\n",
        "      chap=22\n",
        "    elif icdcode=='V00' or icdcode=='W00' or icdcode=='X00' or icdcode=='Y00':\n",
        "      chap=20\n",
        "    elif icdcode=='Z00':\n",
        "      chap=21\n",
        "    else:\n",
        "      # Creating a Roman to Int Dictionary\n",
        "      romtoint = {'I':1,'II':2,'III':3,'IV':4,'V':5,'VI':6,'VII':7,'VIII':8,'IX':9,'X':10,'XI':11,'XII':12,'XIII':13,'XIV':14,'XV':15,'XVI':16,'XVII':17,'XVIII':18,'XIX':19,'XX':20,'XXI':21,'XXII':22}\n",
        "      # Accessing integer using roman key\n",
        "      icd_chap=code.chapter\n",
        "      chap=romtoint[icd_chap] \n",
        "      st.write(\"ICD chapter is\", chap)\n",
        "    year=2021\n",
        "    user_input=[[year,district,sex,page,chap]]\n",
        "    #load the model from disk\n",
        "    loaded_model = pickle.load(open('randforestreg.pkl', 'rb'))\n",
        "    mlos = loaded_model.predict(user_input) \n",
        "    st.write(\"Mean Length of Stay is \",np.round(mlos[0],0))\n",
        "    dis_date=date+ timedelta(days=mlos[0])\n",
        "    fdis_date = dis_date.strftime(\"%b %d, %Y\")\n",
        "    st.write(\"Predicted Discharge date is \",fdis_date)\n",
        "  else:\n",
        "    st.write(\"Entered ICD Code doesn't exist!!!\")\n",
        "  st.info(\"Don't forget to rate this app\")\n",
        "  \n",
        "feedback = st.slider('How much would you rate this app?',min_value=0,max_value=5,step=1)\n",
        "  \n",
        "if feedback:\n",
        "    st.header(\"Thank you for rating the app!\")\n",
        "\n",
        "\n",
        "st.subheader(\"About App\")\n",
        "\n",
        "st.info(\"This web app helps you to find approximate discharge date of a patient.\")\n",
        "st.info(\"Enter the required fields and click on the 'PREDICT' button to check your probable discharge date.\")\n",
        "\n",
        "\n",
        "st.caption(\"Caution: This is just a prediction and may not be exact.\") \n"
      ],
      "execution_count": 64,
      "outputs": [
        {
          "output_type": "stream",
          "name": "stdout",
          "text": [
            "Overwriting NZ_app.py\n"
          ]
        }
      ]
    },
    {
      "cell_type": "code",
      "metadata": {
        "colab": {
          "base_uri": "https://localhost:8080/"
        },
        "id": "gS1nwBf5sxcH",
        "outputId": "02bed170-d9c5-46b9-abb5-56b190343497"
      },
      "source": [
        "!ls"
      ],
      "execution_count": 65,
      "outputs": [
        {
          "output_type": "stream",
          "name": "stdout",
          "text": [
            "alldischarges_new.csv  NZ_app.py  randforestreg.pkl  sample_data\n"
          ]
        }
      ]
    },
    {
      "cell_type": "code",
      "metadata": {
        "id": "aoYhYHPqseXL"
      },
      "source": [
        "!streamlit run NZ_app.py &>/dev/null&"
      ],
      "execution_count": 66,
      "outputs": []
    },
    {
      "cell_type": "code",
      "metadata": {
        "colab": {
          "base_uri": "https://localhost:8080/",
          "height": 35
        },
        "id": "OtrD5pK6se8G",
        "outputId": "47000ebd-31b2-4cc6-ba41-276c4433c71a"
      },
      "source": [
        "from pyngrok import ngrok\n",
        "# Setup a tunnel to the streamlit port 8501\n",
        "public_url = ngrok.connect(port='8501')\n",
        "public_url"
      ],
      "execution_count": 70,
      "outputs": [
        {
          "output_type": "execute_result",
          "data": {
            "application/vnd.google.colaboratory.intrinsic+json": {
              "type": "string"
            },
            "text/plain": [
              "'http://399a-35-227-36-139.ngrok.io'"
            ]
          },
          "metadata": {},
          "execution_count": 70
        }
      ]
    },
    {
      "cell_type": "code",
      "metadata": {
        "id": "s3iYp11nshdr"
      },
      "source": [
        "ngrok.kill()"
      ],
      "execution_count": 69,
      "outputs": []
    }
  ]
}